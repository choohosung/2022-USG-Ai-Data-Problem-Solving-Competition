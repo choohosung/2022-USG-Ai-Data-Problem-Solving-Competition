{
 "cells": [
  {
   "cell_type": "code",
   "execution_count": 75,
   "metadata": {},
   "outputs": [],
   "source": [
    "# 필요한 library import\n",
    "import pandas as pd\n",
    "import pickle\n",
    "from sklearn.preprocessing import MaxAbsScaler\n",
    "from sklearn.preprocessing import RobustScaler"
   ]
  },
  {
   "cell_type": "code",
   "execution_count": 76,
   "metadata": {},
   "outputs": [],
   "source": [
    "test_input = pd.read_csv('test_input.csv') # test set"
   ]
  },
  {
   "cell_type": "code",
   "execution_count": 77,
   "metadata": {},
   "outputs": [],
   "source": [
    "# Max absolute scaling\n",
    "mab = MaxAbsScaler()\n",
    "\n",
    "mab.fit(test_input)\n",
    "test_scale = mab.transform(test_input)"
   ]
  },
  {
   "cell_type": "code",
   "execution_count": 78,
   "metadata": {},
   "outputs": [],
   "source": [
    "# Robust scaling\n",
    "ro = RobustScaler()\n",
    "\n",
    "ro.fit(test_scale)\n",
    "test_scale = ro.transform(test_scale)"
   ]
  },
  {
   "cell_type": "code",
   "execution_count": 79,
   "metadata": {},
   "outputs": [],
   "source": [
    "# 불러올 파일 이름\n",
    "file_name = \"xgb_reg.pkl\""
   ]
  },
  {
   "cell_type": "code",
   "execution_count": 80,
   "metadata": {},
   "outputs": [],
   "source": [
    "# load\n",
    "xgb_model_loaded = pickle.load(open(file_name, \"rb\"))"
   ]
  },
  {
   "cell_type": "code",
   "execution_count": 81,
   "metadata": {},
   "outputs": [],
   "source": [
    "# model test\n",
    "test = test_scale\n",
    "y_pred = xgb_model_loaded.predict(test)"
   ]
  },
  {
   "cell_type": "code",
   "execution_count": 82,
   "metadata": {},
   "outputs": [],
   "source": [
    "# 예측결과 column 이름을 label로 저장\n",
    "y_pred = pd.DataFrame(y_pred)\n",
    "y_pred.columns=['label']"
   ]
  },
  {
   "cell_type": "code",
   "execution_count": 83,
   "metadata": {},
   "outputs": [],
   "source": [
    "# index 제거 후 my_solution csv파일에 저장\n",
    "y_pred.to_csv('my_solution.csv', index=False)"
   ]
  }
 ],
 "metadata": {
  "kernelspec": {
   "display_name": "Python 3",
   "language": "python",
   "name": "python3"
  },
  "language_info": {
   "codemirror_mode": {
    "name": "ipython",
    "version": 3
   },
   "file_extension": ".py",
   "mimetype": "text/x-python",
   "name": "python",
   "nbconvert_exporter": "python",
   "pygments_lexer": "ipython3",
   "version": "3.7.6"
  }
 },
 "nbformat": 4,
 "nbformat_minor": 4
}
